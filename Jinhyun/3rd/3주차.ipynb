{
 "metadata": {
  "language_info": {
   "codemirror_mode": {
    "name": "ipython",
    "version": 3
   },
   "file_extension": ".py",
   "mimetype": "text/x-python",
   "name": "python",
   "nbconvert_exporter": "python",
   "pygments_lexer": "ipython3",
   "version": "3.8.5"
  },
  "orig_nbformat": 2,
  "kernelspec": {
   "name": "python385jvsc74a57bd022fee9eda064f99fabd9a5e124d9e9ab29c084cfdf49e8d98468cd7b56ca9881",
   "display_name": "Python 3.8.5 64-bit (conda)"
  }
 },
 "nbformat": 4,
 "nbformat_minor": 2,
 "cells": [
  {
   "source": [
    "## 01 모험가 길드"
   ],
   "cell_type": "markdown",
   "metadata": {}
  },
  {
   "cell_type": "code",
   "execution_count": 1,
   "metadata": {},
   "outputs": [
    {
     "output_type": "stream",
     "name": "stdout",
     "text": [
      "2\n"
     ]
    }
   ],
   "source": [
    "num = int(input())\n",
    "people = list(map(int, input().split()))\n",
    "\n",
    "people.sort()\n",
    "\n",
    "group = 0\n",
    "count = 0\n",
    "# 남은 친구들은 처음 group에 넣어줌\n",
    "for i in people :\n",
    "    count += 1\n",
    "    if count >= i :\n",
    "        group += 1\n",
    "        count = 0\n",
    "print(group)"
   ]
  },
  {
   "source": [
    "## 03 문자열 뒤집기"
   ],
   "cell_type": "markdown",
   "metadata": {}
  },
  {
   "cell_type": "code",
   "execution_count": 6,
   "metadata": {},
   "outputs": [
    {
     "output_type": "stream",
     "name": "stdout",
     "text": [
      "4\n"
     ]
    }
   ],
   "source": [
    "strlist = [i for i in input()]\n",
    "\n",
    "x = strlist[0]\n",
    "\n",
    "x_count = 0\n",
    "not_x_count = 0\n",
    "x_switch = 0\n",
    "\n",
    "for i in range(1, len(strlist)) :\n",
    "    if x_switch == 0 and strlist[i] == x :\n",
    "        x_count += 1\n",
    "        x_switch = 1\n",
    "    elif x_switch == 1 and strlist[i] == x :\n",
    "        continue\n",
    "    elif strlist[i] != x and x_switch == 1 :\n",
    "        not_x_count += 1\n",
    "        x_switch = 0\n",
    "    elif strlist[i] != x and x_switch == 0 :\n",
    "        continue\n",
    "\n",
    "print(min(x_count, not_x_count))"
   ]
  },
  {
   "source": [
    "## 05 볼링공 고르기"
   ],
   "cell_type": "markdown",
   "metadata": {}
  },
  {
   "cell_type": "code",
   "execution_count": 8,
   "metadata": {},
   "outputs": [
    {
     "output_type": "stream",
     "name": "stdout",
     "text": [
      "[4, 3, 4, 3, 5, 6, 5, 5, 4, 5]\n11\n"
     ]
    }
   ],
   "source": [
    "from itertools import combinations as cb\n",
    "\n",
    "n, m = map(int, input().split())\n",
    "gram = list(map(int, input().split()))\n",
    "\n",
    "x = cb(gram, 2)\n",
    "list_gram = [i+j for i, j in x]\n",
    "print(list_gram)\n",
    "n_count = len(list(filter(lambda x : x <= n, list_gram)))\n",
    "print(n_count + m_count)"
   ]
  },
  {
   "cell_type": "code",
   "execution_count": null,
   "metadata": {},
   "outputs": [],
   "source": []
  }
 ]
}